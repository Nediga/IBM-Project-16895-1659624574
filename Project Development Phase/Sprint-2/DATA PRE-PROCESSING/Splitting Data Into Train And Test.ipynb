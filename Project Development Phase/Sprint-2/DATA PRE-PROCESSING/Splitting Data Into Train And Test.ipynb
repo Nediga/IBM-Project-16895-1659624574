{
 "cells": [
  {
   "cell_type": "markdown",
   "id": "6be477a6",
   "metadata": {},
   "source": [
    "# Splitting Data Into Train And Test"
   ]
  },
  {
   "cell_type": "markdown",
   "id": "bcf23c78",
   "metadata": {},
   "source": [
    "The dataset is already download in .csv format"
   ]
  },
  {
   "cell_type": "markdown",
   "id": "b820445b",
   "metadata": {},
   "source": [
    "# IMPORTING THE PACKAGE"
   ]
  },
  {
   "cell_type": "code",
   "execution_count": 1,
   "id": "5251cb35",
   "metadata": {},
   "outputs": [],
   "source": [
    "import numpy as np \n",
    "import pandas as pd\n",
    "\n",
    "import warnings\n",
    "warnings.filterwarnings('ignore')"
   ]
  },
  {
   "cell_type": "markdown",
   "id": "08403814",
   "metadata": {},
   "source": [
    "# Load the dataset"
   ]
  },
  {
   "cell_type": "code",
   "execution_count": 2,
   "id": "aa73c1d1",
   "metadata": {},
   "outputs": [],
   "source": [
    "df=pd.read_csv(\"C:\\loan_prediction.csv\")"
   ]
  },
  {
   "cell_type": "code",
   "execution_count": 3,
   "id": "caa77d47",
   "metadata": {},
   "outputs": [
    {
     "data": {
      "text/html": [
       "<div>\n",
       "<style scoped>\n",
       "    .dataframe tbody tr th:only-of-type {\n",
       "        vertical-align: middle;\n",
       "    }\n",
       "\n",
       "    .dataframe tbody tr th {\n",
       "        vertical-align: top;\n",
       "    }\n",
       "\n",
       "    .dataframe thead th {\n",
       "        text-align: right;\n",
       "    }\n",
       "</style>\n",
       "<table border=\"1\" class=\"dataframe\">\n",
       "  <thead>\n",
       "    <tr style=\"text-align: right;\">\n",
       "      <th></th>\n",
       "      <th>Loan_ID</th>\n",
       "      <th>Gender</th>\n",
       "      <th>Married</th>\n",
       "      <th>Dependents</th>\n",
       "      <th>Education</th>\n",
       "      <th>Self_Employed</th>\n",
       "      <th>ApplicantIncome</th>\n",
       "      <th>CoapplicantIncome</th>\n",
       "      <th>LoanAmount</th>\n",
       "      <th>Loan_Amount_Term</th>\n",
       "      <th>Credit_History</th>\n",
       "      <th>Property_Area</th>\n",
       "      <th>Loan_Status</th>\n",
       "    </tr>\n",
       "  </thead>\n",
       "  <tbody>\n",
       "    <tr>\n",
       "      <th>0</th>\n",
       "      <td>LP001002</td>\n",
       "      <td>Male</td>\n",
       "      <td>No</td>\n",
       "      <td>0</td>\n",
       "      <td>Graduate</td>\n",
       "      <td>No</td>\n",
       "      <td>5849</td>\n",
       "      <td>0.0</td>\n",
       "      <td>NaN</td>\n",
       "      <td>360.0</td>\n",
       "      <td>1.0</td>\n",
       "      <td>Urban</td>\n",
       "      <td>Y</td>\n",
       "    </tr>\n",
       "    <tr>\n",
       "      <th>1</th>\n",
       "      <td>LP001003</td>\n",
       "      <td>Male</td>\n",
       "      <td>Yes</td>\n",
       "      <td>1</td>\n",
       "      <td>Graduate</td>\n",
       "      <td>No</td>\n",
       "      <td>4583</td>\n",
       "      <td>1508.0</td>\n",
       "      <td>128.0</td>\n",
       "      <td>360.0</td>\n",
       "      <td>1.0</td>\n",
       "      <td>Rural</td>\n",
       "      <td>N</td>\n",
       "    </tr>\n",
       "    <tr>\n",
       "      <th>2</th>\n",
       "      <td>LP001005</td>\n",
       "      <td>Male</td>\n",
       "      <td>Yes</td>\n",
       "      <td>0</td>\n",
       "      <td>Graduate</td>\n",
       "      <td>Yes</td>\n",
       "      <td>3000</td>\n",
       "      <td>0.0</td>\n",
       "      <td>66.0</td>\n",
       "      <td>360.0</td>\n",
       "      <td>1.0</td>\n",
       "      <td>Urban</td>\n",
       "      <td>Y</td>\n",
       "    </tr>\n",
       "    <tr>\n",
       "      <th>3</th>\n",
       "      <td>LP001006</td>\n",
       "      <td>Male</td>\n",
       "      <td>Yes</td>\n",
       "      <td>0</td>\n",
       "      <td>Not Graduate</td>\n",
       "      <td>No</td>\n",
       "      <td>2583</td>\n",
       "      <td>2358.0</td>\n",
       "      <td>120.0</td>\n",
       "      <td>360.0</td>\n",
       "      <td>1.0</td>\n",
       "      <td>Urban</td>\n",
       "      <td>Y</td>\n",
       "    </tr>\n",
       "    <tr>\n",
       "      <th>4</th>\n",
       "      <td>LP001008</td>\n",
       "      <td>Male</td>\n",
       "      <td>No</td>\n",
       "      <td>0</td>\n",
       "      <td>Graduate</td>\n",
       "      <td>No</td>\n",
       "      <td>6000</td>\n",
       "      <td>0.0</td>\n",
       "      <td>141.0</td>\n",
       "      <td>360.0</td>\n",
       "      <td>1.0</td>\n",
       "      <td>Urban</td>\n",
       "      <td>Y</td>\n",
       "    </tr>\n",
       "    <tr>\n",
       "      <th>...</th>\n",
       "      <td>...</td>\n",
       "      <td>...</td>\n",
       "      <td>...</td>\n",
       "      <td>...</td>\n",
       "      <td>...</td>\n",
       "      <td>...</td>\n",
       "      <td>...</td>\n",
       "      <td>...</td>\n",
       "      <td>...</td>\n",
       "      <td>...</td>\n",
       "      <td>...</td>\n",
       "      <td>...</td>\n",
       "      <td>...</td>\n",
       "    </tr>\n",
       "    <tr>\n",
       "      <th>609</th>\n",
       "      <td>LP002978</td>\n",
       "      <td>Female</td>\n",
       "      <td>No</td>\n",
       "      <td>0</td>\n",
       "      <td>Graduate</td>\n",
       "      <td>No</td>\n",
       "      <td>2900</td>\n",
       "      <td>0.0</td>\n",
       "      <td>71.0</td>\n",
       "      <td>360.0</td>\n",
       "      <td>1.0</td>\n",
       "      <td>Rural</td>\n",
       "      <td>Y</td>\n",
       "    </tr>\n",
       "    <tr>\n",
       "      <th>610</th>\n",
       "      <td>LP002979</td>\n",
       "      <td>Male</td>\n",
       "      <td>Yes</td>\n",
       "      <td>3+</td>\n",
       "      <td>Graduate</td>\n",
       "      <td>No</td>\n",
       "      <td>4106</td>\n",
       "      <td>0.0</td>\n",
       "      <td>40.0</td>\n",
       "      <td>180.0</td>\n",
       "      <td>1.0</td>\n",
       "      <td>Rural</td>\n",
       "      <td>Y</td>\n",
       "    </tr>\n",
       "    <tr>\n",
       "      <th>611</th>\n",
       "      <td>LP002983</td>\n",
       "      <td>Male</td>\n",
       "      <td>Yes</td>\n",
       "      <td>1</td>\n",
       "      <td>Graduate</td>\n",
       "      <td>No</td>\n",
       "      <td>8072</td>\n",
       "      <td>240.0</td>\n",
       "      <td>253.0</td>\n",
       "      <td>360.0</td>\n",
       "      <td>1.0</td>\n",
       "      <td>Urban</td>\n",
       "      <td>Y</td>\n",
       "    </tr>\n",
       "    <tr>\n",
       "      <th>612</th>\n",
       "      <td>LP002984</td>\n",
       "      <td>Male</td>\n",
       "      <td>Yes</td>\n",
       "      <td>2</td>\n",
       "      <td>Graduate</td>\n",
       "      <td>No</td>\n",
       "      <td>7583</td>\n",
       "      <td>0.0</td>\n",
       "      <td>187.0</td>\n",
       "      <td>360.0</td>\n",
       "      <td>1.0</td>\n",
       "      <td>Urban</td>\n",
       "      <td>Y</td>\n",
       "    </tr>\n",
       "    <tr>\n",
       "      <th>613</th>\n",
       "      <td>LP002990</td>\n",
       "      <td>Female</td>\n",
       "      <td>No</td>\n",
       "      <td>0</td>\n",
       "      <td>Graduate</td>\n",
       "      <td>Yes</td>\n",
       "      <td>4583</td>\n",
       "      <td>0.0</td>\n",
       "      <td>133.0</td>\n",
       "      <td>360.0</td>\n",
       "      <td>0.0</td>\n",
       "      <td>Semiurban</td>\n",
       "      <td>N</td>\n",
       "    </tr>\n",
       "  </tbody>\n",
       "</table>\n",
       "<p>614 rows × 13 columns</p>\n",
       "</div>"
      ],
      "text/plain": [
       "      Loan_ID  Gender Married Dependents     Education Self_Employed  \\\n",
       "0    LP001002    Male      No          0      Graduate            No   \n",
       "1    LP001003    Male     Yes          1      Graduate            No   \n",
       "2    LP001005    Male     Yes          0      Graduate           Yes   \n",
       "3    LP001006    Male     Yes          0  Not Graduate            No   \n",
       "4    LP001008    Male      No          0      Graduate            No   \n",
       "..        ...     ...     ...        ...           ...           ...   \n",
       "609  LP002978  Female      No          0      Graduate            No   \n",
       "610  LP002979    Male     Yes         3+      Graduate            No   \n",
       "611  LP002983    Male     Yes          1      Graduate            No   \n",
       "612  LP002984    Male     Yes          2      Graduate            No   \n",
       "613  LP002990  Female      No          0      Graduate           Yes   \n",
       "\n",
       "     ApplicantIncome  CoapplicantIncome  LoanAmount  Loan_Amount_Term  \\\n",
       "0               5849                0.0         NaN             360.0   \n",
       "1               4583             1508.0       128.0             360.0   \n",
       "2               3000                0.0        66.0             360.0   \n",
       "3               2583             2358.0       120.0             360.0   \n",
       "4               6000                0.0       141.0             360.0   \n",
       "..               ...                ...         ...               ...   \n",
       "609             2900                0.0        71.0             360.0   \n",
       "610             4106                0.0        40.0             180.0   \n",
       "611             8072              240.0       253.0             360.0   \n",
       "612             7583                0.0       187.0             360.0   \n",
       "613             4583                0.0       133.0             360.0   \n",
       "\n",
       "     Credit_History Property_Area Loan_Status  \n",
       "0               1.0         Urban           Y  \n",
       "1               1.0         Rural           N  \n",
       "2               1.0         Urban           Y  \n",
       "3               1.0         Urban           Y  \n",
       "4               1.0         Urban           Y  \n",
       "..              ...           ...         ...  \n",
       "609             1.0         Rural           Y  \n",
       "610             1.0         Rural           Y  \n",
       "611             1.0         Urban           Y  \n",
       "612             1.0         Urban           Y  \n",
       "613             0.0     Semiurban           N  \n",
       "\n",
       "[614 rows x 13 columns]"
      ]
     },
     "execution_count": 3,
     "metadata": {},
     "output_type": "execute_result"
    }
   ],
   "source": [
    "df"
   ]
  },
  {
   "cell_type": "code",
   "execution_count": 4,
   "id": "cc362c32",
   "metadata": {},
   "outputs": [
    {
     "data": {
      "text/plain": [
       "(614, 13)"
      ]
     },
     "execution_count": 4,
     "metadata": {},
     "output_type": "execute_result"
    }
   ],
   "source": [
    "df.shape"
   ]
  },
  {
   "cell_type": "markdown",
   "id": "11d83c6d",
   "metadata": {},
   "source": [
    "# Handle the Missing values"
   ]
  },
  {
   "cell_type": "code",
   "execution_count": 5,
   "id": "2ffae538",
   "metadata": {},
   "outputs": [
    {
     "data": {
      "text/plain": [
       "Loan_ID               0\n",
       "Gender               13\n",
       "Married               3\n",
       "Dependents           15\n",
       "Education             0\n",
       "Self_Employed        32\n",
       "ApplicantIncome       0\n",
       "CoapplicantIncome     0\n",
       "LoanAmount           22\n",
       "Loan_Amount_Term     14\n",
       "Credit_History       50\n",
       "Property_Area         0\n",
       "Loan_Status           0\n",
       "dtype: int64"
      ]
     },
     "execution_count": 5,
     "metadata": {},
     "output_type": "execute_result"
    }
   ],
   "source": [
    "#checking the null values\n",
    "df.isnull().sum()"
   ]
  },
  {
   "cell_type": "markdown",
   "id": "e0aa9559",
   "metadata": {},
   "source": [
    "# Treating the Null Value"
   ]
  },
  {
   "cell_type": "markdown",
   "id": "b33d1d74",
   "metadata": {},
   "source": [
    "We will fill the missing values in numeric data type using the mean value of that particular column and categorical data type using the most repeated value"
   ]
  },
  {
   "cell_type": "code",
   "execution_count": 6,
   "id": "7c53fbf1",
   "metadata": {},
   "outputs": [],
   "source": [
    "numerical_features = df.select_dtypes(include = [np.number]).columns\n",
    "categorical_features = df.select_dtypes(include = [np.object]).columns"
   ]
  },
  {
   "cell_type": "code",
   "execution_count": 7,
   "id": "c829ef67",
   "metadata": {},
   "outputs": [
    {
     "data": {
      "text/plain": [
       "Index(['ApplicantIncome', 'CoapplicantIncome', 'LoanAmount',\n",
       "       'Loan_Amount_Term', 'Credit_History'],\n",
       "      dtype='object')"
      ]
     },
     "execution_count": 7,
     "metadata": {},
     "output_type": "execute_result"
    }
   ],
   "source": [
    "numerical_features"
   ]
  },
  {
   "cell_type": "code",
   "execution_count": 8,
   "id": "2bb41099",
   "metadata": {},
   "outputs": [
    {
     "data": {
      "text/plain": [
       "Index(['Loan_ID', 'Gender', 'Married', 'Dependents', 'Education',\n",
       "       'Self_Employed', 'Property_Area', 'Loan_Status'],\n",
       "      dtype='object')"
      ]
     },
     "execution_count": 8,
     "metadata": {},
     "output_type": "execute_result"
    }
   ],
   "source": [
    "categorical_features"
   ]
  },
  {
   "cell_type": "code",
   "execution_count": 9,
   "id": "f451282d",
   "metadata": {},
   "outputs": [],
   "source": [
    "df['Gender'] = df['Gender'].fillna(df['Gender'].mode()[0])"
   ]
  },
  {
   "cell_type": "code",
   "execution_count": 10,
   "id": "27b766d5",
   "metadata": {},
   "outputs": [],
   "source": [
    "df['Married'] = df['Married'].fillna(df['Married'].mode()[0])"
   ]
  },
  {
   "cell_type": "code",
   "execution_count": 11,
   "id": "7409fb42",
   "metadata": {},
   "outputs": [],
   "source": [
    "#replace + with non value \n",
    "df['Dependents'] = df['Dependents'].str.replace('+','')"
   ]
  },
  {
   "cell_type": "code",
   "execution_count": 12,
   "id": "d43f6616",
   "metadata": {},
   "outputs": [],
   "source": [
    "df['Dependents'] = df['Dependents'].fillna(df['Dependents'].mode()[0])"
   ]
  },
  {
   "cell_type": "code",
   "execution_count": 13,
   "id": "755fede5",
   "metadata": {},
   "outputs": [],
   "source": [
    "df['Self_Employed'] = df['Self_Employed'].fillna(df['Self_Employed'].mode()[0])"
   ]
  },
  {
   "cell_type": "code",
   "execution_count": 14,
   "id": "d1aa2780",
   "metadata": {},
   "outputs": [],
   "source": [
    "df['LoanAmount'] = df['LoanAmount'].fillna(df['LoanAmount'].mode()[0])"
   ]
  },
  {
   "cell_type": "code",
   "execution_count": 15,
   "id": "e45ae169",
   "metadata": {},
   "outputs": [],
   "source": [
    "df['Loan_Amount_Term'] = df['Loan_Amount_Term'].fillna(df['Loan_Amount_Term'].mode()[0])"
   ]
  },
  {
   "cell_type": "code",
   "execution_count": 16,
   "id": "aa2d60af",
   "metadata": {},
   "outputs": [],
   "source": [
    "df['Credit_History'] = df['Credit_History'].fillna(df['Credit_History'].mode()[0])"
   ]
  },
  {
   "cell_type": "code",
   "execution_count": 17,
   "id": "a37f0290",
   "metadata": {},
   "outputs": [
    {
     "data": {
      "text/plain": [
       "Loan_ID              0\n",
       "Gender               0\n",
       "Married              0\n",
       "Dependents           0\n",
       "Education            0\n",
       "Self_Employed        0\n",
       "ApplicantIncome      0\n",
       "CoapplicantIncome    0\n",
       "LoanAmount           0\n",
       "Loan_Amount_Term     0\n",
       "Credit_History       0\n",
       "Property_Area        0\n",
       "Loan_Status          0\n",
       "dtype: int64"
      ]
     },
     "execution_count": 17,
     "metadata": {},
     "output_type": "execute_result"
    }
   ],
   "source": [
    "#checking the null values now\n",
    "df.isnull().sum()"
   ]
  },
  {
   "cell_type": "markdown",
   "id": "bdbc6e7a",
   "metadata": {},
   "source": [
    "Now the null value is retreated"
   ]
  },
  {
   "cell_type": "markdown",
   "id": "601ba9d6",
   "metadata": {},
   "source": [
    "# Handling Categorical Values"
   ]
  },
  {
   "cell_type": "code",
   "execution_count": 18,
   "id": "d11c72ab",
   "metadata": {},
   "outputs": [
    {
     "data": {
      "text/plain": [
       "Index(['Loan_ID', 'Gender', 'Married', 'Dependents', 'Education',\n",
       "       'Self_Employed', 'Property_Area', 'Loan_Status'],\n",
       "      dtype='object')"
      ]
     },
     "execution_count": 18,
     "metadata": {},
     "output_type": "execute_result"
    }
   ],
   "source": [
    "df.select_dtypes(include='object').columns"
   ]
  },
  {
   "cell_type": "code",
   "execution_count": 19,
   "id": "6af5c7a7",
   "metadata": {},
   "outputs": [
    {
     "data": {
      "text/plain": [
       "array(['Male', 'Female'], dtype=object)"
      ]
     },
     "execution_count": 19,
     "metadata": {},
     "output_type": "execute_result"
    }
   ],
   "source": [
    "df['Gender'].unique()"
   ]
  },
  {
   "cell_type": "code",
   "execution_count": 20,
   "id": "c784e756",
   "metadata": {},
   "outputs": [],
   "source": [
    "df['Gender'].replace({'Male':1,'Female':0},inplace=True)"
   ]
  },
  {
   "cell_type": "code",
   "execution_count": 21,
   "id": "6cd87d2a",
   "metadata": {},
   "outputs": [
    {
     "data": {
      "text/plain": [
       "array(['No', 'Yes'], dtype=object)"
      ]
     },
     "execution_count": 21,
     "metadata": {},
     "output_type": "execute_result"
    }
   ],
   "source": [
    "df['Married'].unique()"
   ]
  },
  {
   "cell_type": "code",
   "execution_count": 22,
   "id": "55f88e4c",
   "metadata": {},
   "outputs": [],
   "source": [
    "df['Married'].replace({'Yes':1,'No':0},inplace=True)"
   ]
  },
  {
   "cell_type": "code",
   "execution_count": 23,
   "id": "181b4060",
   "metadata": {},
   "outputs": [
    {
     "data": {
      "text/plain": [
       "array(['0', '1', '2', '3'], dtype=object)"
      ]
     },
     "execution_count": 23,
     "metadata": {},
     "output_type": "execute_result"
    }
   ],
   "source": [
    "df['Dependents'].unique()"
   ]
  },
  {
   "cell_type": "code",
   "execution_count": 24,
   "id": "0aeb2c9d",
   "metadata": {},
   "outputs": [],
   "source": [
    "df['Dependents'].replace({'0':0,'1':1,'2':2,'3':3},inplace=True)"
   ]
  },
  {
   "cell_type": "code",
   "execution_count": 25,
   "id": "b9f0e499",
   "metadata": {},
   "outputs": [
    {
     "data": {
      "text/plain": [
       "array(['No', 'Yes'], dtype=object)"
      ]
     },
     "execution_count": 25,
     "metadata": {},
     "output_type": "execute_result"
    }
   ],
   "source": [
    "df['Self_Employed'].unique()"
   ]
  },
  {
   "cell_type": "code",
   "execution_count": 26,
   "id": "6708468c",
   "metadata": {},
   "outputs": [],
   "source": [
    "df['Self_Employed'].replace({'Yes':1,'No':0},inplace=True)"
   ]
  },
  {
   "cell_type": "code",
   "execution_count": 27,
   "id": "d3f1cc28",
   "metadata": {},
   "outputs": [
    {
     "data": {
      "text/plain": [
       "array(['Urban', 'Rural', 'Semiurban'], dtype=object)"
      ]
     },
     "execution_count": 27,
     "metadata": {},
     "output_type": "execute_result"
    }
   ],
   "source": [
    "df['Property_Area'].unique()"
   ]
  },
  {
   "cell_type": "code",
   "execution_count": 28,
   "id": "da5f929b",
   "metadata": {},
   "outputs": [],
   "source": [
    "df['Property_Area'].replace({'Urban':2,'Rural':0,'Semiurban':1},inplace=True)"
   ]
  },
  {
   "cell_type": "code",
   "execution_count": 29,
   "id": "27347afc",
   "metadata": {},
   "outputs": [
    {
     "data": {
      "text/plain": [
       "array(['Y', 'N'], dtype=object)"
      ]
     },
     "execution_count": 29,
     "metadata": {},
     "output_type": "execute_result"
    }
   ],
   "source": [
    "df['Loan_Status'].unique()"
   ]
  },
  {
   "cell_type": "code",
   "execution_count": 30,
   "id": "037456ae",
   "metadata": {},
   "outputs": [],
   "source": [
    "df['Loan_Status'].replace({'Y':1,'N':0},inplace=True)"
   ]
  },
  {
   "cell_type": "code",
   "execution_count": 31,
   "id": "7bf50c1d",
   "metadata": {},
   "outputs": [
    {
     "data": {
      "text/plain": [
       "array(['Graduate', 'Not Graduate'], dtype=object)"
      ]
     },
     "execution_count": 31,
     "metadata": {},
     "output_type": "execute_result"
    }
   ],
   "source": [
    "df['Education'].unique()"
   ]
  },
  {
   "cell_type": "code",
   "execution_count": 32,
   "id": "1f353c35",
   "metadata": {},
   "outputs": [],
   "source": [
    "df['Education'].replace({'Graduate':1,'Not Graduate':0},inplace=True)"
   ]
  },
  {
   "cell_type": "code",
   "execution_count": 33,
   "id": "b0b8e72e",
   "metadata": {},
   "outputs": [],
   "source": [
    "df['CoapplicantIncome']=df['CoapplicantIncome'].astype(\"int64\")\n",
    "df['LoanAmount']=df['LoanAmount'].astype(\"int64\")\n",
    "df['Loan_Amount_Term']=df['Loan_Amount_Term'].astype(\"int64\")\n",
    "df['Credit_History']=df['Credit_History'].astype(\"int64\")"
   ]
  },
  {
   "cell_type": "code",
   "execution_count": 34,
   "id": "1bbee861",
   "metadata": {},
   "outputs": [],
   "source": [
    "# dummy columns are created for the categories in Loan_ID\n",
    "from sklearn.preprocessing import LabelEncoder\n",
    "le = LabelEncoder()\n",
    "df['Loan_ID'] = le.fit_transform(df.Loan_ID)"
   ]
  },
  {
   "cell_type": "code",
   "execution_count": 35,
   "id": "0938ade3",
   "metadata": {},
   "outputs": [
    {
     "data": {
      "text/html": [
       "<div>\n",
       "<style scoped>\n",
       "    .dataframe tbody tr th:only-of-type {\n",
       "        vertical-align: middle;\n",
       "    }\n",
       "\n",
       "    .dataframe tbody tr th {\n",
       "        vertical-align: top;\n",
       "    }\n",
       "\n",
       "    .dataframe thead th {\n",
       "        text-align: right;\n",
       "    }\n",
       "</style>\n",
       "<table border=\"1\" class=\"dataframe\">\n",
       "  <thead>\n",
       "    <tr style=\"text-align: right;\">\n",
       "      <th></th>\n",
       "      <th>Loan_ID</th>\n",
       "      <th>Gender</th>\n",
       "      <th>Married</th>\n",
       "      <th>Dependents</th>\n",
       "      <th>Education</th>\n",
       "      <th>Self_Employed</th>\n",
       "      <th>ApplicantIncome</th>\n",
       "      <th>CoapplicantIncome</th>\n",
       "      <th>LoanAmount</th>\n",
       "      <th>Loan_Amount_Term</th>\n",
       "      <th>Credit_History</th>\n",
       "      <th>Property_Area</th>\n",
       "      <th>Loan_Status</th>\n",
       "    </tr>\n",
       "  </thead>\n",
       "  <tbody>\n",
       "    <tr>\n",
       "      <th>0</th>\n",
       "      <td>0</td>\n",
       "      <td>1</td>\n",
       "      <td>0</td>\n",
       "      <td>0</td>\n",
       "      <td>1</td>\n",
       "      <td>0</td>\n",
       "      <td>5849</td>\n",
       "      <td>0</td>\n",
       "      <td>120</td>\n",
       "      <td>360</td>\n",
       "      <td>1</td>\n",
       "      <td>2</td>\n",
       "      <td>1</td>\n",
       "    </tr>\n",
       "    <tr>\n",
       "      <th>1</th>\n",
       "      <td>1</td>\n",
       "      <td>1</td>\n",
       "      <td>1</td>\n",
       "      <td>1</td>\n",
       "      <td>1</td>\n",
       "      <td>0</td>\n",
       "      <td>4583</td>\n",
       "      <td>1508</td>\n",
       "      <td>128</td>\n",
       "      <td>360</td>\n",
       "      <td>1</td>\n",
       "      <td>0</td>\n",
       "      <td>0</td>\n",
       "    </tr>\n",
       "    <tr>\n",
       "      <th>2</th>\n",
       "      <td>2</td>\n",
       "      <td>1</td>\n",
       "      <td>1</td>\n",
       "      <td>0</td>\n",
       "      <td>1</td>\n",
       "      <td>1</td>\n",
       "      <td>3000</td>\n",
       "      <td>0</td>\n",
       "      <td>66</td>\n",
       "      <td>360</td>\n",
       "      <td>1</td>\n",
       "      <td>2</td>\n",
       "      <td>1</td>\n",
       "    </tr>\n",
       "    <tr>\n",
       "      <th>3</th>\n",
       "      <td>3</td>\n",
       "      <td>1</td>\n",
       "      <td>1</td>\n",
       "      <td>0</td>\n",
       "      <td>0</td>\n",
       "      <td>0</td>\n",
       "      <td>2583</td>\n",
       "      <td>2358</td>\n",
       "      <td>120</td>\n",
       "      <td>360</td>\n",
       "      <td>1</td>\n",
       "      <td>2</td>\n",
       "      <td>1</td>\n",
       "    </tr>\n",
       "    <tr>\n",
       "      <th>4</th>\n",
       "      <td>4</td>\n",
       "      <td>1</td>\n",
       "      <td>0</td>\n",
       "      <td>0</td>\n",
       "      <td>1</td>\n",
       "      <td>0</td>\n",
       "      <td>6000</td>\n",
       "      <td>0</td>\n",
       "      <td>141</td>\n",
       "      <td>360</td>\n",
       "      <td>1</td>\n",
       "      <td>2</td>\n",
       "      <td>1</td>\n",
       "    </tr>\n",
       "  </tbody>\n",
       "</table>\n",
       "</div>"
      ],
      "text/plain": [
       "   Loan_ID  Gender  Married  Dependents  Education  Self_Employed  \\\n",
       "0        0       1        0           0          1              0   \n",
       "1        1       1        1           1          1              0   \n",
       "2        2       1        1           0          1              1   \n",
       "3        3       1        1           0          0              0   \n",
       "4        4       1        0           0          1              0   \n",
       "\n",
       "   ApplicantIncome  CoapplicantIncome  LoanAmount  Loan_Amount_Term  \\\n",
       "0             5849                  0         120               360   \n",
       "1             4583               1508         128               360   \n",
       "2             3000                  0          66               360   \n",
       "3             2583               2358         120               360   \n",
       "4             6000                  0         141               360   \n",
       "\n",
       "   Credit_History  Property_Area  Loan_Status  \n",
       "0               1              2            1  \n",
       "1               1              0            0  \n",
       "2               1              2            1  \n",
       "3               1              2            1  \n",
       "4               1              2            1  "
      ]
     },
     "execution_count": 35,
     "metadata": {},
     "output_type": "execute_result"
    }
   ],
   "source": [
    "df.head()"
   ]
  },
  {
   "cell_type": "markdown",
   "id": "c753b180",
   "metadata": {},
   "source": [
    "# Balancing The Dataset"
   ]
  },
  {
   "cell_type": "code",
   "execution_count": 36,
   "id": "2e78fb04",
   "metadata": {},
   "outputs": [],
   "source": [
    "from imblearn.combine import SMOTETomek"
   ]
  },
  {
   "cell_type": "code",
   "execution_count": 37,
   "id": "275bc60f",
   "metadata": {},
   "outputs": [],
   "source": [
    "smote = SMOTETomek(0.90)"
   ]
  },
  {
   "cell_type": "code",
   "execution_count": 38,
   "id": "36ab7fd1",
   "metadata": {},
   "outputs": [],
   "source": [
    "#dividing the dataset into dependent and independent y and x respectively\n",
    "\n",
    "y = df['Loan_Status']\n",
    "x = df.drop(columns=['Loan_Status'],axis=1)"
   ]
  },
  {
   "cell_type": "code",
   "execution_count": 39,
   "id": "338d700c",
   "metadata": {},
   "outputs": [],
   "source": [
    "#creating the new x and y for balance data\n",
    "x_bal,y_bal = smote.fit_resample(x,y)"
   ]
  },
  {
   "cell_type": "code",
   "execution_count": 40,
   "id": "c9da98a6",
   "metadata": {},
   "outputs": [
    {
     "name": "stdout",
     "output_type": "stream",
     "text": [
      "1    422\n",
      "0    192\n",
      "Name: Loan_Status, dtype: int64\n",
      "1    359\n",
      "0    316\n",
      "Name: Loan_Status, dtype: int64\n"
     ]
    }
   ],
   "source": [
    "#printing the value before and after balancing \n",
    "print(y.value_counts())\n",
    "print(y_bal.value_counts())"
   ]
  },
  {
   "cell_type": "markdown",
   "id": "4ab63b1b",
   "metadata": {},
   "source": [
    "# Scaling The Data"
   ]
  },
  {
   "cell_type": "code",
   "execution_count": 41,
   "id": "12b0586c",
   "metadata": {},
   "outputs": [],
   "source": [
    "from sklearn.preprocessing import StandardScaler"
   ]
  },
  {
   "cell_type": "code",
   "execution_count": 42,
   "id": "c29237a1",
   "metadata": {},
   "outputs": [],
   "source": [
    "sc = StandardScaler()\n",
    "x_bal = sc.fit_transform(x_bal)"
   ]
  },
  {
   "cell_type": "code",
   "execution_count": 43,
   "id": "9fac0efe",
   "metadata": {},
   "outputs": [],
   "source": [
    "x_bal = pd.DataFrame(x_bal)"
   ]
  },
  {
   "cell_type": "code",
   "execution_count": 44,
   "id": "4aabc00d",
   "metadata": {},
   "outputs": [
    {
     "data": {
      "text/html": [
       "<div>\n",
       "<style scoped>\n",
       "    .dataframe tbody tr th:only-of-type {\n",
       "        vertical-align: middle;\n",
       "    }\n",
       "\n",
       "    .dataframe tbody tr th {\n",
       "        vertical-align: top;\n",
       "    }\n",
       "\n",
       "    .dataframe thead th {\n",
       "        text-align: right;\n",
       "    }\n",
       "</style>\n",
       "<table border=\"1\" class=\"dataframe\">\n",
       "  <thead>\n",
       "    <tr style=\"text-align: right;\">\n",
       "      <th></th>\n",
       "      <th>0</th>\n",
       "      <th>1</th>\n",
       "      <th>2</th>\n",
       "      <th>3</th>\n",
       "      <th>4</th>\n",
       "      <th>5</th>\n",
       "      <th>6</th>\n",
       "      <th>7</th>\n",
       "      <th>8</th>\n",
       "      <th>9</th>\n",
       "      <th>10</th>\n",
       "      <th>11</th>\n",
       "    </tr>\n",
       "  </thead>\n",
       "  <tbody>\n",
       "    <tr>\n",
       "      <th>0</th>\n",
       "      <td>-1.696389</td>\n",
       "      <td>0.529939</td>\n",
       "      <td>-1.159202</td>\n",
       "      <td>-0.718409</td>\n",
       "      <td>0.607592</td>\n",
       "      <td>-0.329203</td>\n",
       "      <td>0.099167</td>\n",
       "      <td>-0.468799</td>\n",
       "      <td>-0.277759</td>\n",
       "      <td>0.304575</td>\n",
       "      <td>0.57564</td>\n",
       "      <td>1.371543</td>\n",
       "    </tr>\n",
       "    <tr>\n",
       "      <th>1</th>\n",
       "      <td>-1.690621</td>\n",
       "      <td>0.529939</td>\n",
       "      <td>0.862662</td>\n",
       "      <td>0.324443</td>\n",
       "      <td>0.607592</td>\n",
       "      <td>-0.329203</td>\n",
       "      <td>-0.120245</td>\n",
       "      <td>-0.025950</td>\n",
       "      <td>-0.170708</td>\n",
       "      <td>0.304575</td>\n",
       "      <td>0.57564</td>\n",
       "      <td>-1.203677</td>\n",
       "    </tr>\n",
       "    <tr>\n",
       "      <th>2</th>\n",
       "      <td>-1.684854</td>\n",
       "      <td>0.529939</td>\n",
       "      <td>0.862662</td>\n",
       "      <td>-0.718409</td>\n",
       "      <td>0.607592</td>\n",
       "      <td>3.037643</td>\n",
       "      <td>-0.394597</td>\n",
       "      <td>-0.468799</td>\n",
       "      <td>-1.000358</td>\n",
       "      <td>0.304575</td>\n",
       "      <td>0.57564</td>\n",
       "      <td>1.371543</td>\n",
       "    </tr>\n",
       "    <tr>\n",
       "      <th>3</th>\n",
       "      <td>-1.679087</td>\n",
       "      <td>0.529939</td>\n",
       "      <td>0.862662</td>\n",
       "      <td>-0.718409</td>\n",
       "      <td>-1.645841</td>\n",
       "      <td>-0.329203</td>\n",
       "      <td>-0.466868</td>\n",
       "      <td>0.223666</td>\n",
       "      <td>-0.277759</td>\n",
       "      <td>0.304575</td>\n",
       "      <td>0.57564</td>\n",
       "      <td>1.371543</td>\n",
       "    </tr>\n",
       "    <tr>\n",
       "      <th>4</th>\n",
       "      <td>-1.673319</td>\n",
       "      <td>0.529939</td>\n",
       "      <td>-1.159202</td>\n",
       "      <td>-0.718409</td>\n",
       "      <td>0.607592</td>\n",
       "      <td>-0.329203</td>\n",
       "      <td>0.125337</td>\n",
       "      <td>-0.468799</td>\n",
       "      <td>0.003251</td>\n",
       "      <td>0.304575</td>\n",
       "      <td>0.57564</td>\n",
       "      <td>1.371543</td>\n",
       "    </tr>\n",
       "  </tbody>\n",
       "</table>\n",
       "</div>"
      ],
      "text/plain": [
       "         0         1         2         3         4         5         6   \\\n",
       "0 -1.696389  0.529939 -1.159202 -0.718409  0.607592 -0.329203  0.099167   \n",
       "1 -1.690621  0.529939  0.862662  0.324443  0.607592 -0.329203 -0.120245   \n",
       "2 -1.684854  0.529939  0.862662 -0.718409  0.607592  3.037643 -0.394597   \n",
       "3 -1.679087  0.529939  0.862662 -0.718409 -1.645841 -0.329203 -0.466868   \n",
       "4 -1.673319  0.529939 -1.159202 -0.718409  0.607592 -0.329203  0.125337   \n",
       "\n",
       "         7         8         9        10        11  \n",
       "0 -0.468799 -0.277759  0.304575  0.57564  1.371543  \n",
       "1 -0.025950 -0.170708  0.304575  0.57564 -1.203677  \n",
       "2 -0.468799 -1.000358  0.304575  0.57564  1.371543  \n",
       "3  0.223666 -0.277759  0.304575  0.57564  1.371543  \n",
       "4 -0.468799  0.003251  0.304575  0.57564  1.371543  "
      ]
     },
     "execution_count": 44,
     "metadata": {},
     "output_type": "execute_result"
    }
   ],
   "source": [
    "x_bal.head()"
   ]
  },
  {
   "cell_type": "markdown",
   "id": "b91147c4",
   "metadata": {},
   "source": [
    "We will perform scaling only on the input values"
   ]
  },
  {
   "cell_type": "markdown",
   "id": "d1e9cc92",
   "metadata": {},
   "source": [
    "# Splitting Data Into Train And Test"
   ]
  },
  {
   "cell_type": "code",
   "execution_count": 45,
   "id": "77aa80e7",
   "metadata": {},
   "outputs": [],
   "source": [
    "# splitting the data into training and testing set\n",
    "\n",
    "from sklearn.model_selection import train_test_split"
   ]
  },
  {
   "cell_type": "code",
   "execution_count": 46,
   "id": "9d27432a",
   "metadata": {},
   "outputs": [],
   "source": [
    "x_train, x_test, y_train, y_test = train_test_split(x_bal, y_bal, test_size = 0.33, random_state = 42)"
   ]
  },
  {
   "cell_type": "code",
   "execution_count": 47,
   "id": "a4a72b4f",
   "metadata": {},
   "outputs": [
    {
     "name": "stdout",
     "output_type": "stream",
     "text": [
      "(452, 12)\n",
      "(452,)\n",
      "(223, 12)\n",
      "(223,)\n"
     ]
    }
   ],
   "source": [
    "print(x_train.shape)\n",
    "print(y_train.shape)\n",
    "print(x_test.shape)\n",
    "print(y_test.shape)"
   ]
  },
  {
   "cell_type": "code",
   "execution_count": 48,
   "id": "deb62c0e",
   "metadata": {},
   "outputs": [
    {
     "data": {
      "text/html": [
       "<div>\n",
       "<style scoped>\n",
       "    .dataframe tbody tr th:only-of-type {\n",
       "        vertical-align: middle;\n",
       "    }\n",
       "\n",
       "    .dataframe tbody tr th {\n",
       "        vertical-align: top;\n",
       "    }\n",
       "\n",
       "    .dataframe thead th {\n",
       "        text-align: right;\n",
       "    }\n",
       "</style>\n",
       "<table border=\"1\" class=\"dataframe\">\n",
       "  <thead>\n",
       "    <tr style=\"text-align: right;\">\n",
       "      <th></th>\n",
       "      <th>0</th>\n",
       "      <th>1</th>\n",
       "      <th>2</th>\n",
       "      <th>3</th>\n",
       "      <th>4</th>\n",
       "      <th>5</th>\n",
       "      <th>6</th>\n",
       "      <th>7</th>\n",
       "      <th>8</th>\n",
       "      <th>9</th>\n",
       "      <th>10</th>\n",
       "      <th>11</th>\n",
       "    </tr>\n",
       "  </thead>\n",
       "  <tbody>\n",
       "    <tr>\n",
       "      <th>221</th>\n",
       "      <td>-0.191109</td>\n",
       "      <td>0.529939</td>\n",
       "      <td>-1.159202</td>\n",
       "      <td>-0.718409</td>\n",
       "      <td>0.607592</td>\n",
       "      <td>-0.329203</td>\n",
       "      <td>-0.557509</td>\n",
       "      <td>0.179910</td>\n",
       "      <td>-0.090419</td>\n",
       "      <td>0.304575</td>\n",
       "      <td>0.575640</td>\n",
       "      <td>0.083933</td>\n",
       "    </tr>\n",
       "    <tr>\n",
       "      <th>516</th>\n",
       "      <td>0.933526</td>\n",
       "      <td>-1.887011</td>\n",
       "      <td>-1.159202</td>\n",
       "      <td>-0.718409</td>\n",
       "      <td>-1.645841</td>\n",
       "      <td>-0.329203</td>\n",
       "      <td>-0.324579</td>\n",
       "      <td>-0.468799</td>\n",
       "      <td>-0.491863</td>\n",
       "      <td>0.304575</td>\n",
       "      <td>0.575640</td>\n",
       "      <td>-1.203677</td>\n",
       "    </tr>\n",
       "    <tr>\n",
       "      <th>660</th>\n",
       "      <td>-0.837053</td>\n",
       "      <td>-1.887011</td>\n",
       "      <td>-1.159202</td>\n",
       "      <td>-0.718409</td>\n",
       "      <td>-1.645841</td>\n",
       "      <td>-0.329203</td>\n",
       "      <td>0.358960</td>\n",
       "      <td>-0.468799</td>\n",
       "      <td>-0.143945</td>\n",
       "      <td>0.304575</td>\n",
       "      <td>0.575640</td>\n",
       "      <td>-1.203677</td>\n",
       "    </tr>\n",
       "    <tr>\n",
       "      <th>527</th>\n",
       "      <td>-1.090816</td>\n",
       "      <td>0.529939</td>\n",
       "      <td>0.862662</td>\n",
       "      <td>-0.718409</td>\n",
       "      <td>-1.645841</td>\n",
       "      <td>-0.329203</td>\n",
       "      <td>0.435564</td>\n",
       "      <td>-0.468799</td>\n",
       "      <td>-0.358048</td>\n",
       "      <td>0.304575</td>\n",
       "      <td>-1.737198</td>\n",
       "      <td>0.083933</td>\n",
       "    </tr>\n",
       "    <tr>\n",
       "      <th>84</th>\n",
       "      <td>-1.148490</td>\n",
       "      <td>0.529939</td>\n",
       "      <td>-1.159202</td>\n",
       "      <td>-0.718409</td>\n",
       "      <td>0.607592</td>\n",
       "      <td>-0.329203</td>\n",
       "      <td>0.260866</td>\n",
       "      <td>-0.468799</td>\n",
       "      <td>-0.277759</td>\n",
       "      <td>0.304575</td>\n",
       "      <td>0.575640</td>\n",
       "      <td>1.371543</td>\n",
       "    </tr>\n",
       "    <tr>\n",
       "      <th>...</th>\n",
       "      <td>...</td>\n",
       "      <td>...</td>\n",
       "      <td>...</td>\n",
       "      <td>...</td>\n",
       "      <td>...</td>\n",
       "      <td>...</td>\n",
       "      <td>...</td>\n",
       "      <td>...</td>\n",
       "      <td>...</td>\n",
       "      <td>...</td>\n",
       "      <td>...</td>\n",
       "      <td>...</td>\n",
       "    </tr>\n",
       "    <tr>\n",
       "      <th>71</th>\n",
       "      <td>-1.229233</td>\n",
       "      <td>0.529939</td>\n",
       "      <td>0.862662</td>\n",
       "      <td>0.324443</td>\n",
       "      <td>0.607592</td>\n",
       "      <td>3.037643</td>\n",
       "      <td>-0.499450</td>\n",
       "      <td>-0.468799</td>\n",
       "      <td>-0.277759</td>\n",
       "      <td>0.304575</td>\n",
       "      <td>0.575640</td>\n",
       "      <td>0.083933</td>\n",
       "    </tr>\n",
       "    <tr>\n",
       "      <th>106</th>\n",
       "      <td>-0.998539</td>\n",
       "      <td>-1.887011</td>\n",
       "      <td>-1.159202</td>\n",
       "      <td>-0.718409</td>\n",
       "      <td>0.607592</td>\n",
       "      <td>-0.329203</td>\n",
       "      <td>-0.192516</td>\n",
       "      <td>-0.468799</td>\n",
       "      <td>-1.294750</td>\n",
       "      <td>0.304575</td>\n",
       "      <td>0.575640</td>\n",
       "      <td>0.083933</td>\n",
       "    </tr>\n",
       "    <tr>\n",
       "      <th>270</th>\n",
       "      <td>0.137630</td>\n",
       "      <td>-1.887011</td>\n",
       "      <td>-1.159202</td>\n",
       "      <td>0.324443</td>\n",
       "      <td>0.607592</td>\n",
       "      <td>-0.329203</td>\n",
       "      <td>-0.300835</td>\n",
       "      <td>-0.468799</td>\n",
       "      <td>-0.384811</td>\n",
       "      <td>0.304575</td>\n",
       "      <td>0.575640</td>\n",
       "      <td>0.083933</td>\n",
       "    </tr>\n",
       "    <tr>\n",
       "      <th>435</th>\n",
       "      <td>1.273800</td>\n",
       "      <td>0.529939</td>\n",
       "      <td>0.862662</td>\n",
       "      <td>2.410147</td>\n",
       "      <td>0.607592</td>\n",
       "      <td>-0.329203</td>\n",
       "      <td>-0.313834</td>\n",
       "      <td>0.537889</td>\n",
       "      <td>0.123684</td>\n",
       "      <td>0.304575</td>\n",
       "      <td>0.575640</td>\n",
       "      <td>-1.203677</td>\n",
       "    </tr>\n",
       "    <tr>\n",
       "      <th>102</th>\n",
       "      <td>-1.033143</td>\n",
       "      <td>0.529939</td>\n",
       "      <td>0.862662</td>\n",
       "      <td>0.324443</td>\n",
       "      <td>0.607592</td>\n",
       "      <td>-0.329203</td>\n",
       "      <td>1.612867</td>\n",
       "      <td>-0.468799</td>\n",
       "      <td>0.592035</td>\n",
       "      <td>-2.393236</td>\n",
       "      <td>0.575640</td>\n",
       "      <td>-1.203677</td>\n",
       "    </tr>\n",
       "  </tbody>\n",
       "</table>\n",
       "<p>452 rows × 12 columns</p>\n",
       "</div>"
      ],
      "text/plain": [
       "           0         1         2         3         4         5         6   \\\n",
       "221 -0.191109  0.529939 -1.159202 -0.718409  0.607592 -0.329203 -0.557509   \n",
       "516  0.933526 -1.887011 -1.159202 -0.718409 -1.645841 -0.329203 -0.324579   \n",
       "660 -0.837053 -1.887011 -1.159202 -0.718409 -1.645841 -0.329203  0.358960   \n",
       "527 -1.090816  0.529939  0.862662 -0.718409 -1.645841 -0.329203  0.435564   \n",
       "84  -1.148490  0.529939 -1.159202 -0.718409  0.607592 -0.329203  0.260866   \n",
       "..        ...       ...       ...       ...       ...       ...       ...   \n",
       "71  -1.229233  0.529939  0.862662  0.324443  0.607592  3.037643 -0.499450   \n",
       "106 -0.998539 -1.887011 -1.159202 -0.718409  0.607592 -0.329203 -0.192516   \n",
       "270  0.137630 -1.887011 -1.159202  0.324443  0.607592 -0.329203 -0.300835   \n",
       "435  1.273800  0.529939  0.862662  2.410147  0.607592 -0.329203 -0.313834   \n",
       "102 -1.033143  0.529939  0.862662  0.324443  0.607592 -0.329203  1.612867   \n",
       "\n",
       "           7         8         9         10        11  \n",
       "221  0.179910 -0.090419  0.304575  0.575640  0.083933  \n",
       "516 -0.468799 -0.491863  0.304575  0.575640 -1.203677  \n",
       "660 -0.468799 -0.143945  0.304575  0.575640 -1.203677  \n",
       "527 -0.468799 -0.358048  0.304575 -1.737198  0.083933  \n",
       "84  -0.468799 -0.277759  0.304575  0.575640  1.371543  \n",
       "..        ...       ...       ...       ...       ...  \n",
       "71  -0.468799 -0.277759  0.304575  0.575640  0.083933  \n",
       "106 -0.468799 -1.294750  0.304575  0.575640  0.083933  \n",
       "270 -0.468799 -0.384811  0.304575  0.575640  0.083933  \n",
       "435  0.537889  0.123684  0.304575  0.575640 -1.203677  \n",
       "102 -0.468799  0.592035 -2.393236  0.575640 -1.203677  \n",
       "\n",
       "[452 rows x 12 columns]"
      ]
     },
     "execution_count": 48,
     "metadata": {},
     "output_type": "execute_result"
    }
   ],
   "source": [
    "x_train"
   ]
  },
  {
   "cell_type": "code",
   "execution_count": 49,
   "id": "969f0038",
   "metadata": {},
   "outputs": [
    {
     "data": {
      "text/html": [
       "<div>\n",
       "<style scoped>\n",
       "    .dataframe tbody tr th:only-of-type {\n",
       "        vertical-align: middle;\n",
       "    }\n",
       "\n",
       "    .dataframe tbody tr th {\n",
       "        vertical-align: top;\n",
       "    }\n",
       "\n",
       "    .dataframe thead th {\n",
       "        text-align: right;\n",
       "    }\n",
       "</style>\n",
       "<table border=\"1\" class=\"dataframe\">\n",
       "  <thead>\n",
       "    <tr style=\"text-align: right;\">\n",
       "      <th></th>\n",
       "      <th>0</th>\n",
       "      <th>1</th>\n",
       "      <th>2</th>\n",
       "      <th>3</th>\n",
       "      <th>4</th>\n",
       "      <th>5</th>\n",
       "      <th>6</th>\n",
       "      <th>7</th>\n",
       "      <th>8</th>\n",
       "      <th>9</th>\n",
       "      <th>10</th>\n",
       "      <th>11</th>\n",
       "    </tr>\n",
       "  </thead>\n",
       "  <tbody>\n",
       "    <tr>\n",
       "      <th>396</th>\n",
       "      <td>1.008501</td>\n",
       "      <td>0.529939</td>\n",
       "      <td>0.862662</td>\n",
       "      <td>-0.718409</td>\n",
       "      <td>0.607592</td>\n",
       "      <td>-0.329203</td>\n",
       "      <td>-0.163573</td>\n",
       "      <td>0.250977</td>\n",
       "      <td>-0.411574</td>\n",
       "      <td>0.304575</td>\n",
       "      <td>0.575640</td>\n",
       "      <td>1.371543</td>\n",
       "    </tr>\n",
       "    <tr>\n",
       "      <th>302</th>\n",
       "      <td>0.356790</td>\n",
       "      <td>0.529939</td>\n",
       "      <td>0.862662</td>\n",
       "      <td>1.367295</td>\n",
       "      <td>0.607592</td>\n",
       "      <td>-0.329203</td>\n",
       "      <td>0.529672</td>\n",
       "      <td>0.461242</td>\n",
       "      <td>0.324406</td>\n",
       "      <td>0.304575</td>\n",
       "      <td>0.575640</td>\n",
       "      <td>-1.203677</td>\n",
       "    </tr>\n",
       "    <tr>\n",
       "      <th>673</th>\n",
       "      <td>-0.444872</td>\n",
       "      <td>0.529939</td>\n",
       "      <td>-1.159202</td>\n",
       "      <td>-0.718409</td>\n",
       "      <td>-1.645841</td>\n",
       "      <td>-0.329203</td>\n",
       "      <td>-0.605343</td>\n",
       "      <td>0.835666</td>\n",
       "      <td>-0.050275</td>\n",
       "      <td>0.304575</td>\n",
       "      <td>-1.737198</td>\n",
       "      <td>-1.203677</td>\n",
       "    </tr>\n",
       "    <tr>\n",
       "      <th>541</th>\n",
       "      <td>1.152685</td>\n",
       "      <td>0.529939</td>\n",
       "      <td>-1.159202</td>\n",
       "      <td>0.324443</td>\n",
       "      <td>0.607592</td>\n",
       "      <td>-0.329203</td>\n",
       "      <td>0.224124</td>\n",
       "      <td>-0.468799</td>\n",
       "      <td>-0.384811</td>\n",
       "      <td>0.304575</td>\n",
       "      <td>-1.737198</td>\n",
       "      <td>-1.203677</td>\n",
       "    </tr>\n",
       "    <tr>\n",
       "      <th>377</th>\n",
       "      <td>0.881619</td>\n",
       "      <td>0.529939</td>\n",
       "      <td>0.862662</td>\n",
       "      <td>-0.718409</td>\n",
       "      <td>0.607592</td>\n",
       "      <td>-0.329203</td>\n",
       "      <td>-0.301182</td>\n",
       "      <td>-0.064714</td>\n",
       "      <td>-1.147554</td>\n",
       "      <td>0.304575</td>\n",
       "      <td>0.575640</td>\n",
       "      <td>-1.203677</td>\n",
       "    </tr>\n",
       "    <tr>\n",
       "      <th>...</th>\n",
       "      <td>...</td>\n",
       "      <td>...</td>\n",
       "      <td>...</td>\n",
       "      <td>...</td>\n",
       "      <td>...</td>\n",
       "      <td>...</td>\n",
       "      <td>...</td>\n",
       "      <td>...</td>\n",
       "      <td>...</td>\n",
       "      <td>...</td>\n",
       "      <td>...</td>\n",
       "      <td>...</td>\n",
       "    </tr>\n",
       "    <tr>\n",
       "      <th>482</th>\n",
       "      <td>1.654445</td>\n",
       "      <td>0.529939</td>\n",
       "      <td>-1.159202</td>\n",
       "      <td>-0.718409</td>\n",
       "      <td>0.607592</td>\n",
       "      <td>-0.329203</td>\n",
       "      <td>-0.596331</td>\n",
       "      <td>9.467980</td>\n",
       "      <td>-0.679203</td>\n",
       "      <td>0.304575</td>\n",
       "      <td>0.575640</td>\n",
       "      <td>1.371543</td>\n",
       "    </tr>\n",
       "    <tr>\n",
       "      <th>380</th>\n",
       "      <td>0.904689</td>\n",
       "      <td>0.529939</td>\n",
       "      <td>0.862662</td>\n",
       "      <td>1.367295</td>\n",
       "      <td>-1.645841</td>\n",
       "      <td>-0.329203</td>\n",
       "      <td>-0.575187</td>\n",
       "      <td>-0.041221</td>\n",
       "      <td>-1.080647</td>\n",
       "      <td>-0.594695</td>\n",
       "      <td>0.575640</td>\n",
       "      <td>1.371543</td>\n",
       "    </tr>\n",
       "    <tr>\n",
       "      <th>9</th>\n",
       "      <td>-1.644482</td>\n",
       "      <td>0.529939</td>\n",
       "      <td>0.862662</td>\n",
       "      <td>0.324443</td>\n",
       "      <td>0.607592</td>\n",
       "      <td>-0.329203</td>\n",
       "      <td>1.310959</td>\n",
       "      <td>2.752131</td>\n",
       "      <td>2.786594</td>\n",
       "      <td>0.304575</td>\n",
       "      <td>0.575640</td>\n",
       "      <td>0.083933</td>\n",
       "    </tr>\n",
       "    <tr>\n",
       "      <th>22</th>\n",
       "      <td>-1.552205</td>\n",
       "      <td>0.529939</td>\n",
       "      <td>0.862662</td>\n",
       "      <td>-0.718409</td>\n",
       "      <td>0.607592</td>\n",
       "      <td>3.037643</td>\n",
       "      <td>0.742325</td>\n",
       "      <td>-0.468799</td>\n",
       "      <td>0.672324</td>\n",
       "      <td>0.304575</td>\n",
       "      <td>0.575640</td>\n",
       "      <td>0.083933</td>\n",
       "    </tr>\n",
       "    <tr>\n",
       "      <th>290</th>\n",
       "      <td>0.270280</td>\n",
       "      <td>-1.887011</td>\n",
       "      <td>-1.159202</td>\n",
       "      <td>-0.718409</td>\n",
       "      <td>0.607592</td>\n",
       "      <td>-0.329203</td>\n",
       "      <td>-0.502396</td>\n",
       "      <td>-0.468799</td>\n",
       "      <td>-1.267987</td>\n",
       "      <td>0.304575</td>\n",
       "      <td>0.575640</td>\n",
       "      <td>-1.203677</td>\n",
       "    </tr>\n",
       "  </tbody>\n",
       "</table>\n",
       "<p>223 rows × 12 columns</p>\n",
       "</div>"
      ],
      "text/plain": [
       "           0         1         2         3         4         5         6   \\\n",
       "396  1.008501  0.529939  0.862662 -0.718409  0.607592 -0.329203 -0.163573   \n",
       "302  0.356790  0.529939  0.862662  1.367295  0.607592 -0.329203  0.529672   \n",
       "673 -0.444872  0.529939 -1.159202 -0.718409 -1.645841 -0.329203 -0.605343   \n",
       "541  1.152685  0.529939 -1.159202  0.324443  0.607592 -0.329203  0.224124   \n",
       "377  0.881619  0.529939  0.862662 -0.718409  0.607592 -0.329203 -0.301182   \n",
       "..        ...       ...       ...       ...       ...       ...       ...   \n",
       "482  1.654445  0.529939 -1.159202 -0.718409  0.607592 -0.329203 -0.596331   \n",
       "380  0.904689  0.529939  0.862662  1.367295 -1.645841 -0.329203 -0.575187   \n",
       "9   -1.644482  0.529939  0.862662  0.324443  0.607592 -0.329203  1.310959   \n",
       "22  -1.552205  0.529939  0.862662 -0.718409  0.607592  3.037643  0.742325   \n",
       "290  0.270280 -1.887011 -1.159202 -0.718409  0.607592 -0.329203 -0.502396   \n",
       "\n",
       "           7         8         9         10        11  \n",
       "396  0.250977 -0.411574  0.304575  0.575640  1.371543  \n",
       "302  0.461242  0.324406  0.304575  0.575640 -1.203677  \n",
       "673  0.835666 -0.050275  0.304575 -1.737198 -1.203677  \n",
       "541 -0.468799 -0.384811  0.304575 -1.737198 -1.203677  \n",
       "377 -0.064714 -1.147554  0.304575  0.575640 -1.203677  \n",
       "..        ...       ...       ...       ...       ...  \n",
       "482  9.467980 -0.679203  0.304575  0.575640  1.371543  \n",
       "380 -0.041221 -1.080647 -0.594695  0.575640  1.371543  \n",
       "9    2.752131  2.786594  0.304575  0.575640  0.083933  \n",
       "22  -0.468799  0.672324  0.304575  0.575640  0.083933  \n",
       "290 -0.468799 -1.267987  0.304575  0.575640 -1.203677  \n",
       "\n",
       "[223 rows x 12 columns]"
      ]
     },
     "execution_count": 49,
     "metadata": {},
     "output_type": "execute_result"
    }
   ],
   "source": [
    "x_test"
   ]
  },
  {
   "cell_type": "code",
   "execution_count": 50,
   "id": "63a910f5",
   "metadata": {},
   "outputs": [
    {
     "data": {
      "text/plain": [
       "221    1\n",
       "516    0\n",
       "660    0\n",
       "527    0\n",
       "84     0\n",
       "      ..\n",
       "71     1\n",
       "106    1\n",
       "270    1\n",
       "435    1\n",
       "102    1\n",
       "Name: Loan_Status, Length: 452, dtype: int64"
      ]
     },
     "execution_count": 50,
     "metadata": {},
     "output_type": "execute_result"
    }
   ],
   "source": [
    "y_train"
   ]
  },
  {
   "cell_type": "code",
   "execution_count": 51,
   "id": "5b67b1b4",
   "metadata": {},
   "outputs": [
    {
     "data": {
      "text/plain": [
       "396    0\n",
       "302    1\n",
       "673    0\n",
       "541    0\n",
       "377    0\n",
       "      ..\n",
       "482    0\n",
       "380    1\n",
       "9      0\n",
       "22     1\n",
       "290    0\n",
       "Name: Loan_Status, Length: 223, dtype: int64"
      ]
     },
     "execution_count": 51,
     "metadata": {},
     "output_type": "execute_result"
    }
   ],
   "source": [
    "y_test"
   ]
  },
  {
   "cell_type": "code",
   "execution_count": null,
   "id": "657d1275",
   "metadata": {},
   "outputs": [],
   "source": []
  }
 ],
 "metadata": {
  "kernelspec": {
   "display_name": "Python 3 (ipykernel)",
   "language": "python",
   "name": "python3"
  },
  "language_info": {
   "codemirror_mode": {
    "name": "ipython",
    "version": 3
   },
   "file_extension": ".py",
   "mimetype": "text/x-python",
   "name": "python",
   "nbconvert_exporter": "python",
   "pygments_lexer": "ipython3",
   "version": "3.9.7"
  }
 },
 "nbformat": 4,
 "nbformat_minor": 5
}
